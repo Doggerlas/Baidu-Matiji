{
 "cells": [
  {
   "cell_type": "markdown",
   "id": "715eef3c",
   "metadata": {},
   "source": [
    "# Python的数据类型--Number"
   ]
  },
  {
   "cell_type": "code",
   "execution_count": 8,
   "id": "720cc2b1",
   "metadata": {},
   "outputs": [
    {
     "name": "stdout",
     "output_type": "stream",
     "text": [
      "5\n",
      "4\n",
      "10.0\n",
      "3.0\n",
      "2.718281828459045\n"
     ]
    }
   ],
   "source": [
    "import math\n",
    "print(math.ceil(4.5))#向上取整\n",
    "print(math.floor(4.5))#向下取整\n",
    "print(math.fabs(-10))#绝对值\n",
    "print(math.sqrt(9))#开方\n",
    "print(math.exp(1))#e的次幂"
   ]
  },
  {
   "cell_type": "code",
   "execution_count": 30,
   "id": "ae0705bb",
   "metadata": {},
   "outputs": [
    {
     "name": "stdout",
     "output_type": "stream",
     "text": [
      "0.4288890546751146\n",
      "19\n",
      "设置种子seed\n",
      "0.5714025946899135\n",
      "0.5714025946899135\n"
     ]
    }
   ],
   "source": [
    "import random\n",
    "ran=random.random()#随机生成一个[0,1)范围内的实数\n",
    "print(ran)\n",
    "\n",
    "ran=random.randint(1,20)#随机生成一个[1,20)范围内的实数\n",
    "print(ran)\n",
    "\n",
    "print(\"设置种子seed\")#种子相同时生成的随机数相同\n",
    "random.seed(10)\n",
    "print(random.random())\n",
    "random.seed(10)\n",
    "print(random.random())"
   ]
  },
  {
   "cell_type": "markdown",
   "id": "f752a290",
   "metadata": {},
   "source": [
    "# Python的数据类型--String"
   ]
  },
  {
   "cell_type": "code",
   "execution_count": 46,
   "id": "3a601a4c",
   "metadata": {},
   "outputs": [
    {
     "name": "stdout",
     "output_type": "stream",
     "text": [
      "Hello World!\n",
      "Hello world!\n",
      "I'm going to the movie\n",
      "tab 是这么输出的\t!\n",
      "I'm a dogger!\n",
      "Hello Wlm\n",
      "h-e-l-l-o\n"
     ]
    }
   ],
   "source": [
    "#可使用单引号，双引号,三引号\n",
    "print(\"Hello World!\")\n",
    "print('Hello world!')\n",
    "print('''I\\'m going to the movie''')\n",
    "#可使用转义字符\n",
    "print(\"tab 是这么输出的\\t!\")\n",
    "print(\"I\\'m a dogger!\")\n",
    "#字符串连接与区分\n",
    "str1=\"Hello \"\n",
    "str2=\"Wlm\"\n",
    "print(str1+str2)\n",
    "newstr='-'.join(\"hello\")#字符串中间加-\n",
    "print(newstr)"
   ]
  },
  {
   "cell_type": "markdown",
   "id": "070a5920",
   "metadata": {},
   "source": [
    "# Python的数据类型--List"
   ]
  },
  {
   "cell_type": "code",
   "execution_count": 61,
   "id": "347be5d0",
   "metadata": {},
   "outputs": [
    {
     "name": "stdout",
     "output_type": "stream",
     "text": [
      "dog\n",
      "wlm\n",
      "duck\n",
      "duck\n",
      "wlm\n"
     ]
    }
   ],
   "source": [
    "#创建+访问\n",
    "list=[\"wlm\",\"dog\",\"cat\",\"duck\"]#声明一个列表，并通过下标进行元素访问\n",
    "print(list[1])\n",
    "print(list[0])\n",
    "\n",
    "print(list[-1])#即使不知道有多少元素，也能访问最后一个元素\n",
    "print(list[len(list)-1])\n",
    "\n",
    "print(list[0])#访问第一个元素"
   ]
  },
  {
   "cell_type": "code",
   "execution_count": 89,
   "id": "ed2a3dfb",
   "metadata": {},
   "outputs": [
    {
     "name": "stdout",
     "output_type": "stream",
     "text": [
      "有wlm\n",
      "有wlm\n",
      "['dog']\n",
      "['dog', 'cat', 'fish']\n",
      "['dog', 'hounanya', 'cat', 'fish']\n",
      "['apple', 'orange', 'banana', '狗头']\n",
      "['apple', 'orange', 'banana', 'pear']\n",
      "['苹果', 'orange', 'banana', 'pear']\n",
      "['orange', 'banana', 'pear']\n",
      "['orange', 'pear']\n",
      "['pear']\n"
     ]
    }
   ],
   "source": [
    "########增删改查#########\n",
    "#查询\n",
    "#fun1 C语言风格，简单查找\n",
    "flag=0\n",
    "for l in list:\n",
    "    if l==\"wlm\":\n",
    "        flag=1\n",
    "        print(\"有wlm\")\n",
    "        break\n",
    "if flag==0:\n",
    "    print(\"无wlm\")\n",
    "    \n",
    "#fun2 不用循环，有in关键字\n",
    "if \"wlm\" in list:\n",
    "    print(\"有wlm\")\n",
    "else:\n",
    "    print(\"无wlm\")\n",
    "    \n",
    "#添加\n",
    "animals=[]\n",
    "animals.append(\"dog\")#成员函数，列表末尾添加元素\n",
    "print(animals)\n",
    "\n",
    "others=[\"cat\",\"fish\"]\n",
    "animals.extend(others)#成员函数，列表合并\n",
    "#animals=animals+others\n",
    "print(animals)\n",
    "\n",
    "animals.insert(1,\"hounanya\")#成员函数，指定位置添加元素\n",
    "print(animals)\n",
    "\n",
    "#修改，直接修改下标或是查找下标后再修改下标\n",
    "fruits=['apple','orange','banana','狗头']\n",
    "print(fruits)\n",
    "fruits[-1]='pear'\n",
    "print(fruits)\n",
    "\n",
    "for fruit_num in range(len(fruits)):\n",
    "    if 'apple' == fruits[fruit_num]:\n",
    "        fruits[fruit_num]=\"苹果\"\n",
    "        break\n",
    "print(fruits)\n",
    "\n",
    "#删除\n",
    "del fruits[0]#math函数，下标删除\n",
    "print(fruits)\n",
    "fruits.remove('banana')#成员函数，元素删除\n",
    "print(fruits)\n",
    "fruits.pop(0)#元素函数，下标删除\n",
    "print(fruits)"
   ]
  },
  {
   "cell_type": "code",
   "execution_count": 102,
   "id": "3c49c71d",
   "metadata": {},
   "outputs": [
    {
     "name": "stdout",
     "output_type": "stream",
     "text": [
      "['two', 'three']\n",
      "['four']\n",
      "['two', 'three']\n",
      "['one', 'three']\n",
      "['four', 'three', 'two', 'one']\n",
      "['four', 'three', 'two']\n"
     ]
    }
   ],
   "source": [
    "#列表切片,半闭半开区间\n",
    "numbers=['one','two','three','four']\n",
    "print(numbers[1:3])\n",
    "print(numbers[-1:])\n",
    "print(numbers[-3:-1])\n",
    "print(numbers[::2])#步长为2\n",
    "print(numbers[::-1])\n",
    "print(numbers[-1:0:-1])"
   ]
  },
  {
   "cell_type": "code",
   "execution_count": 109,
   "id": "51844d28",
   "metadata": {},
   "outputs": [
    {
     "name": "stdout",
     "output_type": "stream",
     "text": [
      "[20, 3, 18, 5, 13, 19, 12, 4, 15, 6]\n",
      "[3, 4, 5, 6, 12, 13, 15, 18, 19, 20]\n",
      "[20, 19, 18, 15, 13, 12, 6, 5, 4, 3]\n"
     ]
    }
   ],
   "source": [
    "#列表排列\n",
    "import random\n",
    "rad_list=[]\n",
    "i=0\n",
    "while i<10:\n",
    "    ran=random.randint(1,20)\n",
    "    if ran not in rad_list:\n",
    "        rad_list.append(ran)\n",
    "        i+=1\n",
    "print(rad_list)\n",
    "\n",
    "#默认升序\n",
    "new_list=sorted(rad_list)\n",
    "print(new_list)\n",
    "\n",
    "#手动降序\n",
    "new_list=sorted(rad_list,reverse=True)\n",
    "print(new_list)"
   ]
  },
  {
   "cell_type": "markdown",
   "id": "637ad9ce",
   "metadata": {},
   "source": [
    "# Python的数据类型--Tuple"
   ]
  },
  {
   "cell_type": "code",
   "execution_count": 131,
   "id": "cecb8c26",
   "metadata": {},
   "outputs": [
    {
     "name": "stdout",
     "output_type": "stream",
     "text": [
      "<class 'tuple'>\n",
      "<class 'str'>\n",
      "<class 'tuple'>\n",
      "[4, 10, 15, 17, 14, 18, 7, 9, 20]\n",
      "(4, 10, 15, 17, 14, 18, 7, 9, 20)\n",
      "(20, 9, 7, 18, 14, 17, 15, 10, 4)\n",
      "20\n",
      "4\n",
      "114\n",
      "9\n",
      "1 2 3\n",
      "1 2 [3, 4, 5]\n"
     ]
    }
   ],
   "source": [
    "#与list类似，但是其中内容不可修改\n",
    "tuple1=()\n",
    "print(type(tuple1))\n",
    "tuple2=(\"hello\")\n",
    "print(type(tuple2))\n",
    "tuple3=(\"hello\",)#元组只有一个元素时，需要在后面加逗号\n",
    "print(type(tuple3))\n",
    "\n",
    "#列表转换为元组\n",
    "random_list=[]\n",
    "for i in range(10):\n",
    "    ran=random.randint(1,20)\n",
    "    if ran not in random_list:   \n",
    "        random_list.append(ran)\n",
    "print(random_list) \n",
    "random_tuple=tuple(random_list)\n",
    "print(random_tuple) \n",
    "\n",
    "#切片\n",
    "print(random_tuple[::-1])\n",
    "#函数\n",
    "print(max(random_tuple))\n",
    "print(min(random_tuple))\n",
    "print(sum(random_tuple))\n",
    "print(len(random_tuple))\n",
    "\n",
    "#拆包与装包\n",
    "t3=(1,2,3)\n",
    "a,b,c=t3\n",
    "print(a,b,c)\n",
    "\n",
    "t4=(1,2,3,4,5)\n",
    "a,b,*c=t4\n",
    "print(a,b,c)"
   ]
  },
  {
   "cell_type": "markdown",
   "id": "93f923d8",
   "metadata": {},
   "source": [
    "# Python的数据类型--Dict"
   ]
  },
  {
   "cell_type": "code",
   "execution_count": 134,
   "id": "b6931757",
   "metadata": {},
   "outputs": [
    {
     "name": "stdout",
     "output_type": "stream",
     "text": [
      "{'name': 'wlm', 'high': '180', 'weight': '75'}\n",
      "{'name': 'wlm', 'high': '180', 'weight': '75', 'son': 'diaofa', 'mom': 'mom'}\n",
      "{'name': 'wlm', 'high': '180', 'weight': '75', 'son': 'diaofa', 'mom': 'Maryy'}\n",
      "dict_items([('wlm', 22), ('wlmx', 77), ('wlmf', 55)])\n",
      "wlmx\n",
      "wlmf\n",
      "dict_keys(['wlm', 'wlmx', 'wlmf'])\n",
      "total_age: 154\n",
      "total_age: 51.333333333333336\n",
      "{'wlm': 22, 'wlmf': 55}\n",
      "{'wlm': 22}\n"
     ]
    }
   ],
   "source": [
    "#定义一个字典\n",
    "dict1={'name':'wlm','high':'180','weight':'75'}\n",
    "print(dict1)\n",
    "\n",
    "#添加元素\n",
    "dict1['son']='diaofa'\n",
    "dict1['mom']='mom'\n",
    "print(dict1)\n",
    "\n",
    "#修改元素\n",
    "dict1['mom']='Maryy'\n",
    "print(dict1)\n",
    "\n",
    "#字典函数\n",
    "#items\n",
    "dic2={'wlm':22,'wlmx':77,'wlmf':55}\n",
    "print(dic2.items())\n",
    "for name,age in dic2.items():\n",
    "    if age>=55:\n",
    "        print(name)\n",
    "#keys\n",
    "names=dic2.keys()\n",
    "print(names)\n",
    "#values\n",
    "total_age=sum(dic2.values())\n",
    "print('total_age:',total_age)\n",
    "print('total_age:',total_age/len(dic2.values()))\n",
    "#del 按key删除\n",
    "del dic2['wlmx']\n",
    "print(dic2)\n",
    "#pop 按key删除\n",
    "dict2=dic2.pop('wlmf')\n",
    "print(dic2)"
   ]
  },
  {
   "cell_type": "markdown",
   "id": "0aa9264b",
   "metadata": {},
   "source": [
    "# Class"
   ]
  },
  {
   "cell_type": "code",
   "execution_count": null,
   "id": "839afa1f",
   "metadata": {},
   "outputs": [],
   "source": [
    "\n",
    "class Animal:\n",
    "    def __init__(self,name):#构造函数\n",
    "        self.name=name\n",
    "        print('动物名称实例化')\n",
    "    def eat(self):\n",
    "        print(self.name+'要吃东西啦')\n",
    "    def drink(self):\n",
    "        print(self.name+'要喝水啦')\n",
    "cat=Animal('Mimi')\n",
    "print(cat.name)\n",
    "cat.eat()\n",
    "cat.drink()"
   ]
  },
  {
   "cell_type": "code",
   "execution_count": null,
   "id": "48f97308",
   "metadata": {},
   "outputs": [],
   "source": [
    "#继承\n",
    "class Person:\n",
    "    def __init__(self,name):\n",
    "        self.name=name\n",
    "        print('调用父类构造函数')\n",
    "    def eat(self):\n",
    "        print('调用父类方法')\n",
    "\n",
    "class Student(Person):\n",
    "    def __init__(self):\n",
    "        print('调用子类构造函数')\n",
    "    def study(self):\n",
    "        print('调用子类方法')\n",
    "\n",
    "s=Student()\n",
    "s.study()\n",
    "s.eat()"
   ]
  },
  {
   "cell_type": "markdown",
   "id": "d6aee36f",
   "metadata": {},
   "source": [
    "# JSON"
   ]
  },
  {
   "cell_type": "code",
   "execution_count": 1,
   "id": "84428b31",
   "metadata": {},
   "outputs": [
    {
     "name": "stdout",
     "output_type": "stream",
     "text": [
      "[\n",
      "    {\n",
      "        \"a\":1,\n",
      "        \"b\":2,\n",
      "        \"c\":3,\n",
      "        \"d\":4,\n",
      "        \"e\":5\n",
      "    }\n",
      "]\n",
      "{'a': 1, 'b': 2, 'c': 3, 'd': 4, 'e': 5}\n"
     ]
    }
   ],
   "source": [
    "import json\n",
    "#json序列化：将Python对象编码为JSON字符串\n",
    "data=[{'a':1,'b':2,'c':3,'d':4,'e':5}]\n",
    "#json=json.dumps(data)\n",
    "#print(json)\n",
    "json_format=json.dumps(data,sort_keys=True,indent=4,separators=(',',':'))\n",
    "print(json_format)\n",
    "\n",
    "#json反序列化：json.load用于返回该python字段的数据类型\n",
    "jsonData='{\"a\":1,\"b\":2,\"c\":3,\"d\":4,\"e\":5}'#注意这里单引号是不可以的\n",
    "text=json.loads(jsonData)\n",
    "print(text)"
   ]
  },
  {
   "cell_type": "markdown",
   "id": "7ccdc82b",
   "metadata": {},
   "source": [
    "# 异常处理"
   ]
  },
  {
   "cell_type": "code",
   "execution_count": 3,
   "id": "072b61ba",
   "metadata": {},
   "outputs": [
    {
     "name": "stdout",
     "output_type": "stream",
     "text": [
      "内容写入成功\n",
      "关闭文件\n"
     ]
    }
   ],
   "source": [
    "try:#可能会出问题的地方\n",
    "    fh=open(\"C:\\\\Users\\\\18053\\\\Desktop\\\\wkwk.txt\",'w')\n",
    "    fh.write(\"这是一个测试文件，用于测试异常！\")\n",
    "except IOError:#出了问题的报错信息\n",
    "    print('Error:没找到文件或读取文件失败')\n",
    "else:#没出错的话\n",
    "    print('内容写入成功')\n",
    "    fh.close()\n",
    "\n",
    "try:\n",
    "    fh=open(\"C:\\\\Users\\\\18053\\\\Desktop\\\\wkwk.txt\",'w')\n",
    "    fh.write(\"这是一个测试文件，用于测试异常！\")\n",
    "finally:#finally的内容，退出try时总会执行\n",
    "    print('关闭文件')\n",
    "    fh.close()"
   ]
  },
  {
   "cell_type": "markdown",
   "id": "173599f3",
   "metadata": {},
   "source": [
    "# Numpy"
   ]
  },
  {
   "cell_type": "code",
   "execution_count": 12,
   "id": "e6b961b1",
   "metadata": {},
   "outputs": [
    {
     "data": {
      "text/plain": [
       "array([[1., 1., 1., 1., 1., 1., 1., 1., 1., 1.],\n",
       "       [1., 1., 1., 1., 1., 1., 1., 1., 1., 1.],\n",
       "       [1., 1., 1., 1., 1., 1., 1., 1., 1., 1.],\n",
       "       [1., 1., 1., 1., 1., 1., 1., 1., 1., 1.],\n",
       "       [1., 1., 1., 1., 1., 1., 1., 1., 1., 1.],\n",
       "       [1., 1., 1., 1., 1., 1., 1., 1., 1., 1.],\n",
       "       [1., 1., 1., 1., 1., 1., 1., 1., 1., 1.],\n",
       "       [1., 1., 1., 1., 1., 1., 1., 1., 1., 1.],\n",
       "       [1., 1., 1., 1., 1., 1., 1., 1., 1., 1.],\n",
       "       [1., 1., 1., 1., 1., 1., 1., 1., 1., 1.]])"
      ]
     },
     "execution_count": 12,
     "metadata": {},
     "output_type": "execute_result"
    }
   ],
   "source": [
    "import numpy as np\n",
    "a=[1,2,3,4]\n",
    "b=np.array(a)#用array函数创建数组\n",
    "#b\n",
    "arr_zero=np.zeros([10,10])#创建10*10全0数组\n",
    "#arr_zero\n",
    "arr_ones=np.ones([10,10])#创建10*10全1数组\n",
    "#arr_ones"
   ]
  },
  {
   "cell_type": "code",
   "execution_count": 35,
   "id": "29f1e68e",
   "metadata": {},
   "outputs": [
    {
     "name": "stdout",
     "output_type": "stream",
     "text": [
      "[[0.81902731 0.16499885 0.10000345 0.71378336 0.63729643 0.99460023\n",
      "  0.80785608 0.8649727  0.44892237 0.89845503]\n",
      " [0.78687178 0.23483315 0.21775878 0.14456808 0.01037773 0.92673755\n",
      "  0.56617312 0.24740852 0.77413842 0.59669285]\n",
      " [0.25757183 0.91894866 0.42137674 0.90128002 0.52813969 0.64675188\n",
      "  0.96499977 0.20437686 0.8934054  0.66935629]\n",
      " [0.57197336 0.27038202 0.71711881 0.46176754 0.44115322 0.49050091\n",
      "  0.50606959 0.53360348 0.11510167 0.71753377]\n",
      " [0.44508098 0.02229011 0.29224581 0.58852532 0.45005346 0.02943118\n",
      "  0.0237849  0.77552744 0.03950461 0.84808564]\n",
      " [0.18354673 0.65116377 0.07024686 0.17062909 0.1943212  0.69109542\n",
      "  0.55020882 0.5934691  0.64430003 0.18988716]\n",
      " [0.8221356  0.80259219 0.47326675 0.59211175 0.97190359 0.74090643\n",
      "  0.27566129 0.97655756 0.59349466 0.17903579]\n",
      " [0.53116471 0.00551529 0.09001402 0.78603947 0.23843217 0.58157427\n",
      "  0.82843356 0.34322324 0.29543565 0.25831699]\n",
      " [0.99278117 0.70879549 0.77762842 0.9072696  0.57966791 0.06156901\n",
      "  0.91263372 0.84280092 0.15128935 0.45082938]\n",
      " [0.07747012 0.83412098 0.06066226 0.05918396 0.56545312 0.38724947\n",
      "  0.13943381 0.5845316  0.55824722 0.30038504]]\n",
      "9.787394226605135\n",
      "3\n",
      "[[1.77513607 1.73188391 1.80568811]\n",
      " [1.84518396 1.61680728 1.66200142]]\n",
      "100\n",
      "(10, 10)\n",
      "2\n",
      "float64\n",
      "[[1.77513607 1.73188391 1.80568811]\n",
      " [1.84518396 1.61680728 1.66200142]]\n",
      "[[0.5633371  0.57740591 0.5538055 ]\n",
      " [0.54195138 0.61850291 0.6016842 ]]\n",
      "[[0. 0. 0.]\n",
      " [0. 0. 0.]]\n",
      "[[3.15110808 2.99942189 3.26050956]\n",
      " [3.40470386 2.61406577 2.76224872]]\n",
      "[[1.33234233 1.31601061 1.34375895]\n",
      " [1.35837549 1.27153737 1.28918634]]\n"
     ]
    }
   ],
   "source": [
    "import numpy as np\n",
    "#创建随机数组\n",
    "#均匀分布\n",
    "ran1=np.random.rand(10,10)#10*10矩阵，每个元素位于0-1之间\n",
    "print(ran1)\n",
    "ran2=np.random.uniform(0,10)#指定范围之间的一个数\n",
    "print(ran2)\n",
    "ran3=np.random.randint(0,10)#指定范围之间的一个整数\n",
    "print(ran3)\n",
    "#正态分布\n",
    "ran4=np.random.normal(1.75,0.1,(2,3))#2*3维矩阵，每个元素服从均值为1.75，标准差为0.1的正态分布\n",
    "print(ran4)\n",
    "\n",
    "print(ran1.size)#元素个数\n",
    "print(ran1.shape)#形状\n",
    "print(ran1.ndim)#维数\n",
    "print(ran1.dtype)#元素类型\n",
    "\n",
    "#对数组的计算就是对数组内每个元素的计算\n",
    "print(ran4)\n",
    "print(1/ran4)\n",
    "print(ran4-ran4)\n",
    "print(ran4*ran4)\n",
    "print(ran4**0.5)"
   ]
  },
  {
   "cell_type": "code",
   "execution_count": 45,
   "id": "13ca2e51",
   "metadata": {},
   "outputs": [
    {
     "name": "stdout",
     "output_type": "stream",
     "text": [
      "[0 1 2 3 4 5 6 7 8 9]\n",
      "5\n",
      "[5 6 7]\n",
      "[ 0  1  2  3  4 12 12 12  8  9]\n",
      "[12 12 12]\n",
      "[    12 114514     12]\n",
      "[     0      1      2      3      4     12 114514     12      8      9]\n",
      "[114514 114514 114514]\n",
      "[     0      1      2      3      4 114514 114514 114514      8      9]\n",
      "[[1 2 3]\n",
      " [4 5 6]]\n",
      "[4 5 6]\n",
      "[4 5 6]\n"
     ]
    }
   ],
   "source": [
    "#数组的索引和切片\n",
    "arr=np.arange(10)\n",
    "print(arr)\n",
    "print(arr[5])\n",
    "print(arr[5:8])\n",
    "arr[5:8]=12#修改数组值\n",
    "print(arr)\n",
    "\n",
    "arr_slice=arr[5:8]\n",
    "print(arr_slice)\n",
    "arr_slice[1]=114514\n",
    "print(arr_slice)\n",
    "print(arr)#这是和列表不一样的一点，虽然arr_slice是arr截取出来的一部分，但是修改了前者的值后者的值会跟着变，这说明数据不会被复制，切片只是原始数组的视图，视图上的任何修改都会反映到源数组上\n",
    "arr_slice[:]=114514\n",
    "print(arr_slice)\n",
    "print(arr)#扩散到整个选区\n",
    "\n",
    "#多维数组\n",
    "arr3d=np.array([[[1,2,3],[4,5,6]],[[7,8,9],[10,11,12]]])\n",
    "print(arr3d[0])\n",
    "print(arr3d[0][1])\n",
    "print(arr3d[0,1])"
   ]
  },
  {
   "cell_type": "code",
   "execution_count": 49,
   "id": "5101cbb3",
   "metadata": {},
   "outputs": [
    {
     "name": "stdout",
     "output_type": "stream",
     "text": [
      "[[ 1.11782366 -0.86303202  0.35650831  0.44021714]\n",
      " [ 0.05824942  1.16846891  0.1910715  -1.26001772]\n",
      " [ 1.21162768  0.10085649  1.49774733  1.32250102]\n",
      " [ 0.10701586 -1.77859459  1.01179095  0.18752092]\n",
      " [-0.5870315  -0.45215701 -0.70103056  0.21449313]]\n",
      "0.1672014471927174\n",
      "3.344028943854348\n",
      "[ 0.26287927  0.03944303  1.03318313 -0.11806671 -0.38143149]\n",
      "[ 1.05151709  0.15777212  4.13273253 -0.47226686 -1.52572595]\n"
     ]
    }
   ],
   "source": [
    "1#统计方法，有很多的数组统计方法自己查去吧，同样numpy还支持线性代数运算，diag，dot，det，inv等\n",
    "art=np.random.randn(5,4)\n",
    "print(art)\n",
    "print(art.mean())\n",
    "print(art.sum())\n",
    "#计算某一维度\n",
    "print(art.mean(axis=1))\n",
    "print(art.sum(axis=1))"
   ]
  },
  {
   "cell_type": "markdown",
   "id": "0b8cb9c9",
   "metadata": {},
   "source": [
    "# Pandas"
   ]
  },
  {
   "cell_type": "markdown",
   "id": "c1e99afb",
   "metadata": {},
   "source": [
    "## Series 一维数组及其索引（索引在左边，值在右边）"
   ]
  },
  {
   "cell_type": "code",
   "execution_count": 55,
   "id": "674d5615",
   "metadata": {},
   "outputs": [
    {
     "data": {
      "text/plain": [
       "北京    11\n",
       "上海    12\n",
       "dtype: int64"
      ]
     },
     "execution_count": 55,
     "metadata": {},
     "output_type": "execute_result"
    }
   ],
   "source": [
    "\n",
    "import pandas as pd\n",
    "pd.Series([11,12],index=['北京','上海'])#使用Python列表创建"
   ]
  },
  {
   "cell_type": "code",
   "execution_count": 58,
   "id": "10239d36",
   "metadata": {},
   "outputs": [
    {
     "data": {
      "text/plain": [
       "0    3\n",
       "1    4\n",
       "2    5\n",
       "dtype: int32"
      ]
     },
     "execution_count": 58,
     "metadata": {},
     "output_type": "execute_result"
    }
   ],
   "source": [
    "pd.Series(np.arange(3,6))#使用np数组创建"
   ]
  },
  {
   "cell_type": "code",
   "execution_count": 54,
   "id": "85ac669b",
   "metadata": {},
   "outputs": [
    {
     "data": {
      "text/plain": [
       "北京    11\n",
       "上海    12\n",
       "深圳    13\n",
       "dtype: int64"
      ]
     },
     "execution_count": 54,
     "metadata": {},
     "output_type": "execute_result"
    }
   ],
   "source": [
    "pd.Series({'北京':11,'上海':12,'深圳':13})#使用Python字典创建"
   ]
  },
  {
   "cell_type": "code",
   "execution_count": 65,
   "id": "becf0470",
   "metadata": {},
   "outputs": [
    {
     "data": {
      "text/plain": [
       "array([ 4,  7, -5,  3], dtype=int64)"
      ]
     },
     "execution_count": 65,
     "metadata": {},
     "output_type": "execute_result"
    }
   ],
   "source": [
    "obj=pd.Series([4,7,-5,3])\n",
    "obj.values"
   ]
  },
  {
   "cell_type": "code",
   "execution_count": 66,
   "id": "b386d4ff",
   "metadata": {},
   "outputs": [
    {
     "data": {
      "text/plain": [
       "RangeIndex(start=0, stop=4, step=1)"
      ]
     },
     "execution_count": 66,
     "metadata": {},
     "output_type": "execute_result"
    }
   ],
   "source": [
    "obj.index#未指定索引则自动标号创建索引0 1 2 3"
   ]
  },
  {
   "cell_type": "code",
   "execution_count": 68,
   "id": "085f2fc2",
   "metadata": {},
   "outputs": [
    {
     "data": {
      "text/plain": [
       "7"
      ]
     },
     "execution_count": 68,
     "metadata": {},
     "output_type": "execute_result"
    }
   ],
   "source": [
    "#根据索引获取值\n",
    "obj[1]"
   ]
  },
  {
   "cell_type": "code",
   "execution_count": 70,
   "id": "2a2ccf0f",
   "metadata": {},
   "outputs": [
    {
     "data": {
      "text/plain": [
       "0    4\n",
       "1    7\n",
       "3    3\n",
       "dtype: int64"
      ]
     },
     "execution_count": 70,
     "metadata": {},
     "output_type": "execute_result"
    }
   ],
   "source": [
    "obj[[0,1,3]]"
   ]
  },
  {
   "cell_type": "code",
   "execution_count": 83,
   "id": "5d15a57b",
   "metadata": {},
   "outputs": [
    {
     "data": {
      "text/plain": [
       "allen     47.0\n",
       "sdj        NaN\n",
       "wlm      278.0\n",
       "ysxb       NaN\n",
       "dtype: float64"
      ]
     },
     "execution_count": 83,
     "metadata": {},
     "output_type": "execute_result"
    }
   ],
   "source": [
    "#自动对齐不同索引数据\n",
    "obj2=pd.Series({'wlm':180,'ysxb':114514,'allen':29})\n",
    "obj3=pd.Series({'wlm':98,'allen':18,'sdj':988})\n",
    "obj2+obj3"
   ]
  },
  {
   "cell_type": "code",
   "execution_count": 84,
   "id": "e80ec8af",
   "metadata": {},
   "outputs": [
    {
     "data": {
      "text/plain": [
       "sasdadad\n",
       "wlm       98\n",
       "allen     18\n",
       "sdj      988\n",
       "Name: sujahnsw, dtype: int64"
      ]
     },
     "execution_count": 84,
     "metadata": {},
     "output_type": "execute_result"
    }
   ],
   "source": [
    "obj3.name='sujahnsw'#Series 的name\n",
    "obj3.index.name='sasdadad'#索引的name\n",
    "obj3"
   ]
  },
  {
   "cell_type": "code",
   "execution_count": 85,
   "id": "a5e0e585",
   "metadata": {},
   "outputs": [
    {
     "data": {
      "text/plain": [
       "high    4\n",
       "tal     7\n",
       "su     -5\n",
       "sda     3\n",
       "dtype: int64"
      ]
     },
     "execution_count": 85,
     "metadata": {},
     "output_type": "execute_result"
    }
   ],
   "source": [
    "#修改索引\n",
    "obj4=pd.Series([4,7,-5,3])\n",
    "obj4.index=['high','tal','su','sda']\n",
    "obj4"
   ]
  },
  {
   "cell_type": "markdown",
   "id": "a2c33491",
   "metadata": {},
   "source": [
    "## DataFrame 多维数组及其索引"
   ]
  },
  {
   "cell_type": "code",
   "execution_count": 90,
   "id": "e0395b06",
   "metadata": {},
   "outputs": [
    {
     "data": {
      "text/html": [
       "<div>\n",
       "<style scoped>\n",
       "    .dataframe tbody tr th:only-of-type {\n",
       "        vertical-align: middle;\n",
       "    }\n",
       "\n",
       "    .dataframe tbody tr th {\n",
       "        vertical-align: top;\n",
       "    }\n",
       "\n",
       "    .dataframe thead th {\n",
       "        text-align: right;\n",
       "    }\n",
       "</style>\n",
       "<table border=\"1\" class=\"dataframe\">\n",
       "  <thead>\n",
       "    <tr style=\"text-align: right;\">\n",
       "      <th></th>\n",
       "      <th>state</th>\n",
       "      <th>year</th>\n",
       "      <th>pop</th>\n",
       "    </tr>\n",
       "  </thead>\n",
       "  <tbody>\n",
       "    <tr>\n",
       "      <th>0</th>\n",
       "      <td>Ame</td>\n",
       "      <td>2000</td>\n",
       "      <td>1.2</td>\n",
       "    </tr>\n",
       "    <tr>\n",
       "      <th>1</th>\n",
       "      <td>Cha</td>\n",
       "      <td>1999</td>\n",
       "      <td>1.5</td>\n",
       "    </tr>\n",
       "    <tr>\n",
       "      <th>2</th>\n",
       "      <td>Jan</td>\n",
       "      <td>114514</td>\n",
       "      <td>1.6</td>\n",
       "    </tr>\n",
       "    <tr>\n",
       "      <th>3</th>\n",
       "      <td>Eng</td>\n",
       "      <td>1112</td>\n",
       "      <td>13.0</td>\n",
       "    </tr>\n",
       "  </tbody>\n",
       "</table>\n",
       "</div>"
      ],
      "text/plain": [
       "  state    year   pop\n",
       "0   Ame    2000   1.2\n",
       "1   Cha    1999   1.5\n",
       "2   Jan  114514   1.6\n",
       "3   Eng    1112  13.0"
      ]
     },
     "execution_count": 90,
     "metadata": {},
     "output_type": "execute_result"
    }
   ],
   "source": [
    "\n",
    "data={'state':['Ame','Cha','Jan','Eng'],'year':[2000,1999,114514,1112],'pop':[1.2,1.5,1.6,13]}\n",
    "frame=pd.DataFrame(data)\n",
    "frame"
   ]
  },
  {
   "cell_type": "code",
   "execution_count": 92,
   "id": "38b4df63",
   "metadata": {},
   "outputs": [
    {
     "data": {
      "text/html": [
       "<div>\n",
       "<style scoped>\n",
       "    .dataframe tbody tr th:only-of-type {\n",
       "        vertical-align: middle;\n",
       "    }\n",
       "\n",
       "    .dataframe tbody tr th {\n",
       "        vertical-align: top;\n",
       "    }\n",
       "\n",
       "    .dataframe thead th {\n",
       "        text-align: right;\n",
       "    }\n",
       "</style>\n",
       "<table border=\"1\" class=\"dataframe\">\n",
       "  <thead>\n",
       "    <tr style=\"text-align: right;\">\n",
       "      <th></th>\n",
       "      <th>year</th>\n",
       "      <th>pop</th>\n",
       "      <th>state</th>\n",
       "    </tr>\n",
       "  </thead>\n",
       "  <tbody>\n",
       "    <tr>\n",
       "      <th>0</th>\n",
       "      <td>2000</td>\n",
       "      <td>1.2</td>\n",
       "      <td>Ame</td>\n",
       "    </tr>\n",
       "    <tr>\n",
       "      <th>1</th>\n",
       "      <td>1999</td>\n",
       "      <td>1.5</td>\n",
       "      <td>Cha</td>\n",
       "    </tr>\n",
       "    <tr>\n",
       "      <th>2</th>\n",
       "      <td>114514</td>\n",
       "      <td>1.6</td>\n",
       "      <td>Jan</td>\n",
       "    </tr>\n",
       "    <tr>\n",
       "      <th>3</th>\n",
       "      <td>1112</td>\n",
       "      <td>13.0</td>\n",
       "      <td>Eng</td>\n",
       "    </tr>\n",
       "  </tbody>\n",
       "</table>\n",
       "</div>"
      ],
      "text/plain": [
       "     year   pop state\n",
       "0    2000   1.2   Ame\n",
       "1    1999   1.5   Cha\n",
       "2  114514   1.6   Jan\n",
       "3    1112  13.0   Eng"
      ]
     },
     "execution_count": 92,
     "metadata": {},
     "output_type": "execute_result"
    }
   ],
   "source": [
    "frame=pd.DataFrame(data,columns=['year','pop','state'])#自定义显示顺序\n",
    "frame"
   ]
  },
  {
   "cell_type": "code",
   "execution_count": 97,
   "id": "84ff0d66",
   "metadata": {},
   "outputs": [
    {
     "data": {
      "text/html": [
       "<div>\n",
       "<style scoped>\n",
       "    .dataframe tbody tr th:only-of-type {\n",
       "        vertical-align: middle;\n",
       "    }\n",
       "\n",
       "    .dataframe tbody tr th {\n",
       "        vertical-align: top;\n",
       "    }\n",
       "\n",
       "    .dataframe thead th {\n",
       "        text-align: right;\n",
       "    }\n",
       "</style>\n",
       "<table border=\"1\" class=\"dataframe\">\n",
       "  <thead>\n",
       "    <tr style=\"text-align: right;\">\n",
       "      <th></th>\n",
       "      <th>year</th>\n",
       "      <th>pop</th>\n",
       "      <th>state</th>\n",
       "    </tr>\n",
       "  </thead>\n",
       "  <tbody>\n",
       "    <tr>\n",
       "      <th>js</th>\n",
       "      <td>2000</td>\n",
       "      <td>1.2</td>\n",
       "      <td>Ame</td>\n",
       "    </tr>\n",
       "    <tr>\n",
       "      <th>ssd</th>\n",
       "      <td>1999</td>\n",
       "      <td>1.5</td>\n",
       "      <td>Cha</td>\n",
       "    </tr>\n",
       "    <tr>\n",
       "      <th>gfz</th>\n",
       "      <td>114514</td>\n",
       "      <td>1.6</td>\n",
       "      <td>Jan</td>\n",
       "    </tr>\n",
       "    <tr>\n",
       "      <th>dasdad</th>\n",
       "      <td>1112</td>\n",
       "      <td>13.0</td>\n",
       "      <td>Eng</td>\n",
       "    </tr>\n",
       "  </tbody>\n",
       "</table>\n",
       "</div>"
      ],
      "text/plain": [
       "          year   pop state\n",
       "js        2000   1.2   Ame\n",
       "ssd       1999   1.5   Cha\n",
       "gfz     114514   1.6   Jan\n",
       "dasdad    1112  13.0   Eng"
      ]
     },
     "execution_count": 97,
     "metadata": {},
     "output_type": "execute_result"
    }
   ],
   "source": [
    "frame=pd.DataFrame(data,columns=['year','pop','state'],index=['js','ssd','gfz','dasdad'])\n",
    "frame"
   ]
  },
  {
   "cell_type": "code",
   "execution_count": 101,
   "id": "d279dd6e",
   "metadata": {},
   "outputs": [
    {
     "data": {
      "text/html": [
       "<div>\n",
       "<style scoped>\n",
       "    .dataframe tbody tr th:only-of-type {\n",
       "        vertical-align: middle;\n",
       "    }\n",
       "\n",
       "    .dataframe tbody tr th {\n",
       "        vertical-align: top;\n",
       "    }\n",
       "\n",
       "    .dataframe thead th {\n",
       "        text-align: right;\n",
       "    }\n",
       "</style>\n",
       "<table border=\"1\" class=\"dataframe\">\n",
       "  <thead>\n",
       "    <tr style=\"text-align: right;\">\n",
       "      <th></th>\n",
       "      <th>year</th>\n",
       "      <th>pop</th>\n",
       "      <th>state</th>\n",
       "    </tr>\n",
       "  </thead>\n",
       "  <tbody>\n",
       "    <tr>\n",
       "      <th>js</th>\n",
       "      <td>2000</td>\n",
       "      <td>15</td>\n",
       "      <td>Ame</td>\n",
       "    </tr>\n",
       "    <tr>\n",
       "      <th>ssd</th>\n",
       "      <td>1999</td>\n",
       "      <td>15</td>\n",
       "      <td>Cha</td>\n",
       "    </tr>\n",
       "    <tr>\n",
       "      <th>gfz</th>\n",
       "      <td>114514</td>\n",
       "      <td>15</td>\n",
       "      <td>Jan</td>\n",
       "    </tr>\n",
       "    <tr>\n",
       "      <th>dasdad</th>\n",
       "      <td>1112</td>\n",
       "      <td>15</td>\n",
       "      <td>Eng</td>\n",
       "    </tr>\n",
       "  </tbody>\n",
       "</table>\n",
       "</div>"
      ],
      "text/plain": [
       "          year  pop state\n",
       "js        2000   15   Ame\n",
       "ssd       1999   15   Cha\n",
       "gfz     114514   15   Jan\n",
       "dasdad    1112   15   Eng"
      ]
     },
     "execution_count": 101,
     "metadata": {},
     "output_type": "execute_result"
    }
   ],
   "source": [
    "#修改\n",
    "frame['pop']=15\n",
    "frame"
   ]
  },
  {
   "cell_type": "code",
   "execution_count": 107,
   "id": "a6437ebc",
   "metadata": {},
   "outputs": [
    {
     "data": {
      "text/html": [
       "<div>\n",
       "<style scoped>\n",
       "    .dataframe tbody tr th:only-of-type {\n",
       "        vertical-align: middle;\n",
       "    }\n",
       "\n",
       "    .dataframe tbody tr th {\n",
       "        vertical-align: top;\n",
       "    }\n",
       "\n",
       "    .dataframe thead th {\n",
       "        text-align: right;\n",
       "    }\n",
       "</style>\n",
       "<table border=\"1\" class=\"dataframe\">\n",
       "  <thead>\n",
       "    <tr style=\"text-align: right;\">\n",
       "      <th></th>\n",
       "      <th>year</th>\n",
       "      <th>pop</th>\n",
       "      <th>state</th>\n",
       "    </tr>\n",
       "  </thead>\n",
       "  <tbody>\n",
       "    <tr>\n",
       "      <th>js</th>\n",
       "      <td>2000</td>\n",
       "      <td>0</td>\n",
       "      <td>Ame</td>\n",
       "    </tr>\n",
       "    <tr>\n",
       "      <th>ssd</th>\n",
       "      <td>1999</td>\n",
       "      <td>1</td>\n",
       "      <td>Cha</td>\n",
       "    </tr>\n",
       "    <tr>\n",
       "      <th>gfz</th>\n",
       "      <td>114514</td>\n",
       "      <td>2</td>\n",
       "      <td>Jan</td>\n",
       "    </tr>\n",
       "    <tr>\n",
       "      <th>dasdad</th>\n",
       "      <td>1112</td>\n",
       "      <td>3</td>\n",
       "      <td>Eng</td>\n",
       "    </tr>\n",
       "  </tbody>\n",
       "</table>\n",
       "</div>"
      ],
      "text/plain": [
       "          year  pop state\n",
       "js        2000    0   Ame\n",
       "ssd       1999    1   Cha\n",
       "gfz     114514    2   Jan\n",
       "dasdad    1112    3   Eng"
      ]
     },
     "execution_count": 107,
     "metadata": {},
     "output_type": "execute_result"
    }
   ],
   "source": [
    "frame['pop']=np.arange(4)\n",
    "frame"
   ]
  },
  {
   "cell_type": "code",
   "execution_count": 109,
   "id": "6c139004",
   "metadata": {},
   "outputs": [
    {
     "data": {
      "text/html": [
       "<div>\n",
       "<style scoped>\n",
       "    .dataframe tbody tr th:only-of-type {\n",
       "        vertical-align: middle;\n",
       "    }\n",
       "\n",
       "    .dataframe tbody tr th {\n",
       "        vertical-align: top;\n",
       "    }\n",
       "\n",
       "    .dataframe thead th {\n",
       "        text-align: right;\n",
       "    }\n",
       "</style>\n",
       "<table border=\"1\" class=\"dataframe\">\n",
       "  <thead>\n",
       "    <tr style=\"text-align: right;\">\n",
       "      <th></th>\n",
       "      <th>year</th>\n",
       "      <th>pop</th>\n",
       "      <th>state</th>\n",
       "    </tr>\n",
       "  </thead>\n",
       "  <tbody>\n",
       "    <tr>\n",
       "      <th>js</th>\n",
       "      <td>2000</td>\n",
       "      <td>36.0</td>\n",
       "      <td>Ame</td>\n",
       "    </tr>\n",
       "    <tr>\n",
       "      <th>ssd</th>\n",
       "      <td>1999</td>\n",
       "      <td>45.0</td>\n",
       "      <td>Cha</td>\n",
       "    </tr>\n",
       "    <tr>\n",
       "      <th>gfz</th>\n",
       "      <td>114514</td>\n",
       "      <td>36.0</td>\n",
       "      <td>Jan</td>\n",
       "    </tr>\n",
       "    <tr>\n",
       "      <th>dasdad</th>\n",
       "      <td>1112</td>\n",
       "      <td>NaN</td>\n",
       "      <td>Eng</td>\n",
       "    </tr>\n",
       "  </tbody>\n",
       "</table>\n",
       "</div>"
      ],
      "text/plain": [
       "          year   pop state\n",
       "js        2000  36.0   Ame\n",
       "ssd       1999  45.0   Cha\n",
       "gfz     114514  36.0   Jan\n",
       "dasdad    1112   NaN   Eng"
      ]
     },
     "execution_count": 109,
     "metadata": {},
     "output_type": "execute_result"
    }
   ],
   "source": [
    "val=pd.Series([36,36,45],index=['js','gfz','ssd'])\n",
    "frame['pop']=val\n",
    "frame"
   ]
  },
  {
   "cell_type": "code",
   "execution_count": 119,
   "id": "569a1518",
   "metadata": {},
   "outputs": [
    {
     "data": {
      "text/html": [
       "<div>\n",
       "<style scoped>\n",
       "    .dataframe tbody tr th:only-of-type {\n",
       "        vertical-align: middle;\n",
       "    }\n",
       "\n",
       "    .dataframe tbody tr th {\n",
       "        vertical-align: top;\n",
       "    }\n",
       "\n",
       "    .dataframe thead th {\n",
       "        text-align: right;\n",
       "    }\n",
       "</style>\n",
       "<table border=\"1\" class=\"dataframe\">\n",
       "  <thead>\n",
       "    <tr style=\"text-align: right;\">\n",
       "      <th></th>\n",
       "      <th>year</th>\n",
       "      <th>pop</th>\n",
       "      <th>state</th>\n",
       "      <th>dad</th>\n",
       "    </tr>\n",
       "  </thead>\n",
       "  <tbody>\n",
       "    <tr>\n",
       "      <th>js</th>\n",
       "      <td>2000</td>\n",
       "      <td>36.0</td>\n",
       "      <td>Ame</td>\n",
       "      <td>True</td>\n",
       "    </tr>\n",
       "    <tr>\n",
       "      <th>ssd</th>\n",
       "      <td>1999</td>\n",
       "      <td>45.0</td>\n",
       "      <td>Cha</td>\n",
       "      <td>True</td>\n",
       "    </tr>\n",
       "    <tr>\n",
       "      <th>gfz</th>\n",
       "      <td>114514</td>\n",
       "      <td>36.0</td>\n",
       "      <td>Jan</td>\n",
       "      <td>False</td>\n",
       "    </tr>\n",
       "    <tr>\n",
       "      <th>dasdad</th>\n",
       "      <td>1112</td>\n",
       "      <td>NaN</td>\n",
       "      <td>Eng</td>\n",
       "      <td>True</td>\n",
       "    </tr>\n",
       "  </tbody>\n",
       "</table>\n",
       "</div>"
      ],
      "text/plain": [
       "          year   pop state    dad\n",
       "js        2000  36.0   Ame   True\n",
       "ssd       1999  45.0   Cha   True\n",
       "gfz     114514  36.0   Jan  False\n",
       "dasdad    1112   NaN   Eng   True"
      ]
     },
     "execution_count": 119,
     "metadata": {},
     "output_type": "execute_result"
    }
   ],
   "source": [
    "#新增\n",
    "frame['dad']=frame.state!='Jan'\n",
    "frame"
   ]
  },
  {
   "cell_type": "code",
   "execution_count": 120,
   "id": "46296953",
   "metadata": {},
   "outputs": [
    {
     "data": {
      "text/html": [
       "<div>\n",
       "<style scoped>\n",
       "    .dataframe tbody tr th:only-of-type {\n",
       "        vertical-align: middle;\n",
       "    }\n",
       "\n",
       "    .dataframe tbody tr th {\n",
       "        vertical-align: top;\n",
       "    }\n",
       "\n",
       "    .dataframe thead th {\n",
       "        text-align: right;\n",
       "    }\n",
       "</style>\n",
       "<table border=\"1\" class=\"dataframe\">\n",
       "  <thead>\n",
       "    <tr style=\"text-align: right;\">\n",
       "      <th></th>\n",
       "      <th>year</th>\n",
       "      <th>pop</th>\n",
       "      <th>state</th>\n",
       "    </tr>\n",
       "  </thead>\n",
       "  <tbody>\n",
       "    <tr>\n",
       "      <th>js</th>\n",
       "      <td>2000</td>\n",
       "      <td>36.0</td>\n",
       "      <td>Ame</td>\n",
       "    </tr>\n",
       "    <tr>\n",
       "      <th>ssd</th>\n",
       "      <td>1999</td>\n",
       "      <td>45.0</td>\n",
       "      <td>Cha</td>\n",
       "    </tr>\n",
       "    <tr>\n",
       "      <th>gfz</th>\n",
       "      <td>114514</td>\n",
       "      <td>36.0</td>\n",
       "      <td>Jan</td>\n",
       "    </tr>\n",
       "    <tr>\n",
       "      <th>dasdad</th>\n",
       "      <td>1112</td>\n",
       "      <td>NaN</td>\n",
       "      <td>Eng</td>\n",
       "    </tr>\n",
       "  </tbody>\n",
       "</table>\n",
       "</div>"
      ],
      "text/plain": [
       "          year   pop state\n",
       "js        2000  36.0   Ame\n",
       "ssd       1999  45.0   Cha\n",
       "gfz     114514  36.0   Jan\n",
       "dasdad    1112   NaN   Eng"
      ]
     },
     "execution_count": 120,
     "metadata": {},
     "output_type": "execute_result"
    }
   ],
   "source": [
    "#删除\n",
    "del frame['dad']\n",
    "frame"
   ]
  },
  {
   "cell_type": "code",
   "execution_count": 136,
   "id": "d1404507",
   "metadata": {},
   "outputs": [
    {
     "data": {
      "text/html": [
       "<div>\n",
       "<style scoped>\n",
       "    .dataframe tbody tr th:only-of-type {\n",
       "        vertical-align: middle;\n",
       "    }\n",
       "\n",
       "    .dataframe tbody tr th {\n",
       "        vertical-align: top;\n",
       "    }\n",
       "\n",
       "    .dataframe thead th {\n",
       "        text-align: right;\n",
       "    }\n",
       "</style>\n",
       "<table border=\"1\" class=\"dataframe\">\n",
       "  <thead>\n",
       "    <tr style=\"text-align: right;\">\n",
       "      <th>sas</th>\n",
       "      <th>app</th>\n",
       "      <th>pll</th>\n",
       "    </tr>\n",
       "    <tr>\n",
       "      <th>dadsa</th>\n",
       "      <th></th>\n",
       "      <th></th>\n",
       "    </tr>\n",
       "  </thead>\n",
       "  <tbody>\n",
       "    <tr>\n",
       "      <th>2001</th>\n",
       "      <td>2.1</td>\n",
       "      <td>6.3</td>\n",
       "    </tr>\n",
       "    <tr>\n",
       "      <th>2003</th>\n",
       "      <td>2.1</td>\n",
       "      <td>5.6</td>\n",
       "    </tr>\n",
       "    <tr>\n",
       "      <th>2008</th>\n",
       "      <td>3.2</td>\n",
       "      <td>9.7</td>\n",
       "    </tr>\n",
       "  </tbody>\n",
       "</table>\n",
       "</div>"
      ],
      "text/plain": [
       "sas    app  pll\n",
       "dadsa          \n",
       "2001   2.1  6.3\n",
       "2003   2.1  5.6\n",
       "2008   3.2  9.7"
      ]
     },
     "execution_count": 136,
     "metadata": {},
     "output_type": "execute_result"
    }
   ],
   "source": [
    "#多字点嵌套，外层字典为列，内层为行索引\n",
    "pop={'app':{2001:2.1,2003:2.1,2008:3.2},'pll':{2001:6.3,2003:5.6,2008:9.7}}\n",
    "frame5=pd.DataFrame(pop)\n",
    "frame5.index.name='dadsa'\n",
    "frame5.columns.name='sas'\n",
    "frame5"
   ]
  },
  {
   "cell_type": "code",
   "execution_count": 138,
   "id": "6f54c15d",
   "metadata": {},
   "outputs": [
    {
     "data": {
      "text/html": [
       "<div>\n",
       "<style scoped>\n",
       "    .dataframe tbody tr th:only-of-type {\n",
       "        vertical-align: middle;\n",
       "    }\n",
       "\n",
       "    .dataframe tbody tr th {\n",
       "        vertical-align: top;\n",
       "    }\n",
       "\n",
       "    .dataframe thead th {\n",
       "        text-align: right;\n",
       "    }\n",
       "</style>\n",
       "<table border=\"1\" class=\"dataframe\">\n",
       "  <thead>\n",
       "    <tr style=\"text-align: right;\">\n",
       "      <th>dadsa</th>\n",
       "      <th>2001</th>\n",
       "      <th>2003</th>\n",
       "      <th>2008</th>\n",
       "    </tr>\n",
       "    <tr>\n",
       "      <th>sas</th>\n",
       "      <th></th>\n",
       "      <th></th>\n",
       "      <th></th>\n",
       "    </tr>\n",
       "  </thead>\n",
       "  <tbody>\n",
       "    <tr>\n",
       "      <th>app</th>\n",
       "      <td>2.1</td>\n",
       "      <td>2.1</td>\n",
       "      <td>3.2</td>\n",
       "    </tr>\n",
       "    <tr>\n",
       "      <th>pll</th>\n",
       "      <td>6.3</td>\n",
       "      <td>5.6</td>\n",
       "      <td>9.7</td>\n",
       "    </tr>\n",
       "  </tbody>\n",
       "</table>\n",
       "</div>"
      ],
      "text/plain": [
       "dadsa  2001  2003  2008\n",
       "sas                    \n",
       "app     2.1   2.1   3.2\n",
       "pll     6.3   5.6   9.7"
      ]
     },
     "execution_count": 138,
     "metadata": {},
     "output_type": "execute_result"
    }
   ],
   "source": [
    "frame5.T#转置"
   ]
  },
  {
   "cell_type": "code",
   "execution_count": 140,
   "id": "2024246b",
   "metadata": {},
   "outputs": [
    {
     "data": {
      "text/plain": [
       "array([[2.1, 6.3],\n",
       "       [2.1, 5.6],\n",
       "       [3.2, 9.7]])"
      ]
     },
     "execution_count": 140,
     "metadata": {},
     "output_type": "execute_result"
    }
   ],
   "source": [
    "frame5.values"
   ]
  },
  {
   "cell_type": "markdown",
   "id": "5ca7ed85",
   "metadata": {},
   "source": [
    "# Matplot"
   ]
  },
  {
   "cell_type": "code",
   "execution_count": 144,
   "id": "e91ac684",
   "metadata": {},
   "outputs": [
    {
     "data": {
      "image/png": "[encoded data removed]",
      "text/plain": [
       "<Figure size 432x288 with 1 Axes>"
      ]
     },
     "metadata": {
      "needs_background": "light"
     },
     "output_type": "display_data"
    }
   ],
   "source": [
    "import matplotlib.pyplot as plt\n",
    "plt.plot([3,1,5,3,2])\n",
    "plt.ylabel('grade')\n",
    "plt.show()"
   ]
  },
  {
   "cell_type": "code",
   "execution_count": 146,
   "id": "76eabfc0",
   "metadata": {},
   "outputs": [
    {
     "data": {
      "image/png": "[encoded data removed]",
      "text/plain": [
       "<Figure size 432x288 with 1 Axes>"
      ]
     },
     "metadata": {
      "needs_background": "light"
     },
     "output_type": "display_data"
    }
   ],
   "source": [
    "import matplotlib.pyplot as plt\n",
    "plt.plot([3,1,5,3,2],[1,3,5,2,4])\n",
    "plt.ylabel('grade')\n",
    "plt.show()"
   ]
  },
  {
   "cell_type": "code",
   "execution_count": 156,
   "id": "a4cf11a1",
   "metadata": {},
   "outputs": [
    {
     "data": {
      "image/png": "[encoded data removed]",
      "text/plain": [
       "<Figure size 432x288 with 1 Axes>"
      ]
     },
     "metadata": {},
     "output_type": "display_data"
    }
   ],
   "source": [
    "labels='F','H','D','L'#类别\n",
    "size=[15,30,45,10]#占比\n",
    "explode=(0,0,0.5,0)#偏置角度\n",
    "plt.pie(size,explode=explode,labels=labels,autopct='%1.1f%%',shadow=True,startangle=90)#后两个参数是边缘阴影和起始角\n",
    "plt.axis('equal')\n",
    "plt.show()"
   ]
  },
  {
   "cell_type": "code",
   "execution_count": 166,
   "id": "7fc88504",
   "metadata": {},
   "outputs": [
    {
     "data": {
      "image/png": "[encoded data removed]",
      "text/plain": [
       "<Figure size 432x288 with 1 Axes>"
      ]
     },
     "metadata": {
      "needs_background": "light"
     },
     "output_type": "display_data"
    }
   ],
   "source": [
    "np.random.seed(0)\n",
    "mu,Sigma=100,20\n",
    "a=np.random.normal(mu,Sigma,size=100)\n",
    "plt.hist(a,20,histtype='stepfilled',facecolor='y',alpha=0.75)\n",
    "plt.title('hist')\n",
    "plt.show()"
   ]
  },
  {
   "cell_type": "code",
   "execution_count": 168,
   "id": "d378559b",
   "metadata": {},
   "outputs": [
    {
     "data": {
      "image/png": "[encoded data removed]",
      "text/plain": [
       "<Figure size 432x288 with 1 Axes>"
      ]
     },
     "metadata": {
      "needs_background": "light"
     },
     "output_type": "display_data"
    }
   ],
   "source": [
    "fig,ax=plt.subplots()\n",
    "ax.plot(10*np.random.randn(100),10*np.random.randn(100),'o')\n",
    "ax.set_title('Scatter')\n",
    "plt.show()"
   ]
  },
  {
   "cell_type": "markdown",
   "id": "ad8c4ce3",
   "metadata": {},
   "source": [
    "# PIL"
   ]
  },
  {
   "cell_type": "code",
   "execution_count": 179,
   "id": "3155eaba",
   "metadata": {},
   "outputs": [],
   "source": [
    "from PIL import Image\n",
    "im=Image.open('C:\\\\Users\\\\18053\\\\Pictures\\\\10.jpg')\n",
    "im.show()\n",
    "im.rotate(45).show()"
   ]
  },
  {
   "cell_type": "code",
   "execution_count": 182,
   "id": "722e8d88",
   "metadata": {},
   "outputs": [],
   "source": [
    "im=Image.open('C:\\\\Users\\\\18053\\\\Pictures\\\\10.jpg')\n",
    "im=im.convert('L')\n",
    "im.show()"
   ]
  },
  {
   "cell_type": "code",
   "execution_count": 184,
   "id": "7dc4ff52",
   "metadata": {},
   "outputs": [
    {
     "data": {
      "text/plain": [
       "('R', 'G', 'B')"
      ]
     },
     "execution_count": 184,
     "metadata": {},
     "output_type": "execute_result"
    }
   ],
   "source": [
    "#获取基本信息\n",
    "im=Image.open('C:\\\\Users\\\\18053\\\\Pictures\\\\10.jpg')\n",
    "band=im.getbands()#显示通道\n",
    "band"
   ]
  },
  {
   "cell_type": "code",
   "execution_count": 187,
   "id": "e9dbf888",
   "metadata": {},
   "outputs": [
    {
     "data": {
      "text/plain": [
       "(0, 0, 812, 813)"
      ]
     },
     "execution_count": 187,
     "metadata": {},
     "output_type": "execute_result"
    }
   ],
   "source": [
    "bbox=im.getbbox()#返回一个像素坐标\n",
    "bbox"
   ]
  }
 ],
 "metadata": {
  "kernelspec": {
   "display_name": "Python 3 (ipykernel)",
   "language": "python",
   "name": "python3"
  },
  "language_info": {
   "codemirror_mode": {
    "name": "ipython",
    "version": 3
   },
   "file_extension": ".py",
   "mimetype": "text/x-python",
   "name": "python",
   "nbconvert_exporter": "python",
   "pygments_lexer": "ipython3",
   "version": "3.9.7"
  }
 },
 "nbformat": 4,
 "nbformat_minor": 5
}
